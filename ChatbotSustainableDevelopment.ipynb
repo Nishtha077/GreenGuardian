{
  "nbformat": 4,
  "nbformat_minor": 0,
  "metadata": {
    "colab": {
      "provenance": [],
      "authorship_tag": "ABX9TyPPWDLNPr4yL7QEdw+jBkUe",
      "include_colab_link": true
    },
    "kernelspec": {
      "name": "python3",
      "display_name": "Python 3"
    },
    "language_info": {
      "name": "python"
    }
  },
  "cells": [
    {
      "cell_type": "markdown",
      "metadata": {
        "id": "view-in-github",
        "colab_type": "text"
      },
      "source": [
        "<a href=\"https://colab.research.google.com/github/Nishtha077/GreenGuardian/blob/main/ChatbotSustainableDevelopment.ipynb\" target=\"_parent\"><img src=\"https://colab.research.google.com/assets/colab-badge.svg\" alt=\"Open In Colab\"/></a>"
      ]
    },
    {
      "cell_type": "markdown",
      "source": [
        "#GreenGuardian\n",
        "\n",
        "\n"
      ],
      "metadata": {
        "id": "kSnt1P81AgAv"
      }
    },
    {
      "cell_type": "code",
      "source": [
        "!pip install nltk"
      ],
      "metadata": {
        "id": "7kZzXB5_Agzg",
        "colab": {
          "base_uri": "https://localhost:8080/"
        },
        "outputId": "7dcf1bb0-a8a1-4b53-b456-0a99e2fc00da"
      },
      "execution_count": 6,
      "outputs": [
        {
          "output_type": "stream",
          "name": "stdout",
          "text": [
            "Requirement already satisfied: nltk in /usr/local/lib/python3.10/dist-packages (3.8.1)\n",
            "Requirement already satisfied: click in /usr/local/lib/python3.10/dist-packages (from nltk) (8.1.7)\n",
            "Requirement already satisfied: joblib in /usr/local/lib/python3.10/dist-packages (from nltk) (1.3.2)\n",
            "Requirement already satisfied: regex>=2021.8.3 in /usr/local/lib/python3.10/dist-packages (from nltk) (2023.12.25)\n",
            "Requirement already satisfied: tqdm in /usr/local/lib/python3.10/dist-packages (from nltk) (4.66.1)\n"
          ]
        }
      ]
    },
    {
      "cell_type": "code",
      "source": [
        "import nltk\n",
        "from nltk.stem import WordNetLemmatizer\n",
        "from nltk.corpus import wordnet\n",
        "from sklearn.feature_extraction.text import TfidfVectorizer\n",
        "from sklearn.metrics.pairwise import cosine_similarity\n",
        "import random"
      ],
      "metadata": {
        "id": "HHHULr9rAinr"
      },
      "execution_count": 7,
      "outputs": []
    },
    {
      "cell_type": "code",
      "source": [
        "nltk.download('punkt')\n",
        "nltk.download('wordnet')"
      ],
      "metadata": {
        "colab": {
          "base_uri": "https://localhost:8080/"
        },
        "id": "JAu4GmL1H0HV",
        "outputId": "5707dbf9-e206-4f91-970e-ed4cf2d9c710"
      },
      "execution_count": 8,
      "outputs": [
        {
          "output_type": "stream",
          "name": "stderr",
          "text": [
            "[nltk_data] Downloading package punkt to /root/nltk_data...\n",
            "[nltk_data]   Unzipping tokenizers/punkt.zip.\n",
            "[nltk_data] Downloading package wordnet to /root/nltk_data...\n"
          ]
        },
        {
          "output_type": "execute_result",
          "data": {
            "text/plain": [
              "True"
            ]
          },
          "metadata": {},
          "execution_count": 8
        }
      ]
    },
    {
      "cell_type": "code",
      "source": [
        "class Chatbot:\n",
        "    def __init__(self):\n",
        "        self.lemmatizer = WordNetLemmatizer()\n",
        "        self.tfidf_vectorizer = TfidfVectorizer()\n",
        "        self.documents = []\n",
        "        self.responses = []\n",
        "        self.greetings = ['hello', 'hi', 'hey']\n",
        "        self.goodbyes = [\"Thank you, bye\", \"Thanks, Bye\", 'bye', 'goodbye', 'see you']\n",
        "\n",
        "    def lemmatize_sentence(self, sentence):\n",
        "        tokens = nltk.word_tokenize(sentence)\n",
        "        lemmatized_tokens = []\n",
        "        for token in tokens:\n",
        "            lemmatized_tokens.append(self.lemmatizer.lemmatize(token.lower()))\n",
        "        return ' '.join(lemmatized_tokens)\n",
        "\n",
        "    def prepare_documents(self):\n",
        "        self.documents = [self.lemmatize_sentence(document) for document in self.documents]\n",
        "\n",
        "    def train_tfidf_vectorizer(self):\n",
        "        self.tfidf_vectorizer.fit_transform(self.documents)\n",
        "\n",
        "    def generate_response(self, user_input):\n",
        "        lemmatized_input = self.lemmatize_sentence(user_input)\n",
        "        tfidf_input = self.tfidf_vectorizer.transform([lemmatized_input])\n",
        "        similarity_scores = cosine_similarity(tfidf_input, self.tfidf_vectorizer.transform(self.documents))\n",
        "        max_score_index = similarity_scores.argmax()\n",
        "        response = self.responses[max_score_index]\n",
        "        return response\n",
        "\n",
        "    def chat(self):\n",
        "        print(\"Chatbot: Hello! How can I assist you today?\")\n",
        "        while True:\n",
        "            user_input = input(\"User: \")\n",
        "            if user_input.lower() in self.goodbyes:\n",
        "                print(\"\\nGreenGuardian: Goodbye! Have a great day!\")\n",
        "                break\n",
        "            elif user_input.lower() in self.greetings:\n",
        "                print(\"\\nGreenGuardian: Hello! How can I assist you today?\")\n",
        "            else:\n",
        "                response = self.generate_response(user_input)\n",
        "                print(\"\\nGreenGuardian:\", response)"
      ],
      "metadata": {
        "id": "XKW7PTizAol3"
      },
      "execution_count": 9,
      "outputs": []
    },
    {
      "cell_type": "code",
      "source": [
        "f = open(\"tips.txt\", \"r\")\n",
        "tips = f.read().split('\\n')\n",
        "tips"
      ],
      "metadata": {
        "id": "-Tk56baMKP6m",
        "outputId": "b1e05fc2-0090-466f-c5cf-e1759d0b6125",
        "colab": {
          "base_uri": "https://localhost:8080/"
        }
      },
      "execution_count": 10,
      "outputs": [
        {
          "output_type": "execute_result",
          "data": {
            "text/plain": [
              "['Conserve energy by turning off lights and appliances when not in use.',\n",
              " 'Reduce water consumption by taking shorter showers and fixing leaks.',\n",
              " 'Opt for reusable products such as bags, bottles, and coffee cups.',\n",
              " 'Recycle paper, plastic, glass, and other recyclable materials.',\n",
              " 'Plant trees and support reforestation initiatives to combat deforestation.']"
            ]
          },
          "metadata": {},
          "execution_count": 10
        }
      ]
    },
    {
      "cell_type": "code",
      "source": [
        "f = open(\"questions.txt\", \"r\")\n",
        "questions = f.read().split('\\n')\n",
        "questions"
      ],
      "metadata": {
        "id": "m3JY_QScDZLi",
        "outputId": "0d43bfd8-ca80-4d7a-c710-407478037552",
        "colab": {
          "base_uri": "https://localhost:8080/"
        }
      },
      "execution_count": 11,
      "outputs": [
        {
          "output_type": "execute_result",
          "data": {
            "text/plain": [
              "['None',\n",
              " 'Can you suggest some simple steps I can take to reduce my carbon footprint?',\n",
              " \"I'm interested in learning more about renewable energy. Can you provide some resources?\",\n",
              " 'Can you recommend some eco-friendly products for everyday use?',\n",
              " 'How can I get involved in local environmental initiatives?',\n",
              " 'What are some ways to reduce water consumption at home?',\n",
              " 'How can I encourage sustainability in my workplace?',\n",
              " 'Are there any grants or funding opportunities available for sustainable projects?']"
            ]
          },
          "metadata": {},
          "execution_count": 11
        }
      ]
    },
    {
      "cell_type": "code",
      "source": [
        "f = open(\"answers.txt\", \"r\")\n",
        "responses = f.read().split('newResponse')\n",
        "responses[0] = responses[0] + tips[random.randrange(len(tips))]\n",
        "responses"
      ],
      "metadata": {
        "id": "lD6s6Nq2ENED",
        "outputId": "1d4293c8-5a42-4a63-ec51-6dfa9e600292",
        "colab": {
          "base_uri": "https://localhost:8080/"
        }
      },
      "execution_count": 12,
      "outputs": [
        {
          "output_type": "execute_result",
          "data": {
            "text/plain": [
              "['Sorry, I do not have an answer for that. Here\\'s a sustainable living tip instead:\\\\n\"\\nOpt for reusable products such as bags, bottles, and coffee cups.',\n",
              " '\\nCertainly! Here are some simple steps you can take to reduce your carbon footprint:\\n\\nSave Energy: Turn off lights and appliances when not in use, unplug electronics, and use energy-efficient light bulbs and appliances.\\n\\n\\nConserve Water: Fix leaks, take shorter showers, and use water-saving devices like low-flow showerheads and faucets.\\n\\n\\nUse Sustainable Transportation: Walk, cycle, or use public transportation whenever possible. If you need a car, consider carpooling or using an electric vehicle.\\n\\n\\nEat a Plant-Based Diet: Reduce your consumption of meat and dairy products, as the production of these foods has a significant environmental impact.\\n\\n\\nReduce, Reuse, Recycle: Minimize waste by using reusable products, recycling materials like paper, plastic, and glass, and composting organic waste.\\n\\n\\nSupport Renewable Energy: Use renewable energy sources like solar power or wind energy to power your home. Consider switching to a green energy provider.\\n\\n\\nPlant Trees and Greenery: Plant trees and support reforestation efforts. Trees absorb carbon dioxide and help combat climate change.\\n\\n\\nRemember, even small actions can make a big difference when it comes to reducing your carbon footprint!\\n\\n',\n",
              " '\\n\\nAbsolutely! Here are some resources where you can learn more about renewable energy:\\nWebsites:\\nThe National Renewable Energy Laboratory (NREL): Visit NREL\\'s website (https://www.nrel.gov/) for comprehensive information on renewable energy technologies, research, and publications.\\nRenewable Energy World: Explore Renewable Energy World (https://www.renewableenergyworld.com/) for news, articles, and resources related to renewable energy.\\nGlobal Wind Energy Council (GWEC): GWEC\\'s website (https://gwec.net/) provides valuable insights into wind energy and its global impact.\\nOnline Courses:\\nCoursera: Coursera (https://www.coursera.org/) offers various courses on renewable energy, such as \"Introduction to Renewable Energy\" and \"Solar Energy Basics.\"\\nedX: Check out edX (https://www.edx.org/) for courses like \"Wind Energy\" and \"Introduction to Sustainable Energy.\"\\nBooks:\\n\"Renewable Energy: Power for a Sustainable Future\" by Godfrey Boyle\\n\"The Switch: How Solar, Storage and New Tech Means Cheap Power for All\" by Chris Goodall\\n\"Wind Energy Basics: A Guide to Home and Community-Scale Wind Energy Systems\" by Paul Gipe\\nThese resources should provide you with a solid foundation in understanding and exploring renewable energy. Happy learning!\\n\\n',\n",
              " '\\n\\nCertainly! Here are some eco-friendly products you can consider for everyday use:\\nReusable Water Bottles: Instead of single-use plastic bottles, opt for reusable water bottles made from stainless steel, glass, or BPA\\n\\nReusable Shopping Bags: Use reusable shopping bags made of canvas or recycled materials instead of plastic bags.\\n\\n\\nBamboo Toothbrush: Switch to a bamboo toothbrush, which has a biodegradable handle compared to plastic toothbrushes.\\n\\n\\nReusable Coffee Cup: Invest in a reusable coffee cup made from materials like stainless steel or ceramic to reduce waste from disposable cups.\\n\\n\\nBeeswax Wraps: Replace single-use plastic wraps with beeswax wraps to cover food and keep it fresh. Beeswax wraps are washable and reusable.\\n\\n\\nBiodegradable Cleaning Products: Choose cleaning products that are biodegradable and made from natural ingredients to reduce chemical pollution.\\n\\n\\nReusable Food Containers: Opt for reusable food containers made from glass or stainless steel for storing leftovers or packing meals on the go.\\n\\n\\nCloth Napkins: Use cloth napkins instead of disposable paper napkins to reduce paper waste.\\n\\n\\nSolar-Powered Chargers: Consider using solar-powered chargers for your electronic devices to utilize renewable energy and reduce reliance on traditional electricity sources.\\n\\n\\nEco-Friendly Laundry Detergent: Look for laundry detergents that are biodegradable, phosphate-free, and made from natural ingredients.\\n\\n\\nPlant-Based Personal Care Products: Choose personal care products such as shampoo, conditioner, and soap that are made from plant-based and cruelty-free ingredients.\\n\\n\\nRemember, making small switches to eco-friendly products can have a significant positive impact on the environment over time.\\n\\n',\n",
              " \"\\n\\nGetting involved in local environmental initiatives is a fantastic way to contribute to a sustainable future. Here are some steps you can take to get involved:\\nResearch Local Organizations: Look for environmental organizations, non-profits, or community groups in your area that focus on sustainability. Check their websites or social media pages for information on their initiatives and events.\\n\\n\\nVolunteer: Reach out to these organizations and inquire about volunteer opportunities. They may have programs related to tree planting, beach cleanups, recycling campaigns, or educational initiatives. Volunteering allows you to actively participate in environmental projects and meet like-minded individuals.\\n\\n\\nAttend Events and Workshops: Keep an eye out for environmental events, workshops, or seminars happening in your community. These events often provide opportunities to learn about sustainable practices and connect with experts and activists.\\n\\n\\nParticipate in Local Cleanups: Join local clean-up initiatives to help keep your surroundings clean and free from litter. These activities not only improve the environment but also raise awareness about the importance of waste management.\\n\\n\\nEngage with Local Government: Stay informed about environmental policies and projects in your area. Attend community meetings, town halls, or public hearings related to environmental issues and express your views. Engaging with local government can influence decision-making processes.\\nPromote Sustainable Practices: Encourage friends, family, and colleagues to adopt sustainable practices by leading by example. Share information and resources on social media or organize small awareness campaigns in your neighborhood.\\n\\n\\nRemember, every effort counts, and by getting involved in local initiatives, you can make a tangible difference in your community's sustainability efforts.\\n\\n\",\n",
              " '\\n\\nReducing water consumption at home is a great way to conserve this precious resource. Here are some tips:\\nFix leaks promptly: Check for leaks in faucets, toilets, and pipes, and repair them as soon as possible.\\n\\n\\nInstall water-saving devices: Install water-efficient showerheads, faucets, and toilets. These devices help reduce water usage without compromising functionality.\\n\\n\\nTake shorter showers: Aim to reduce the time spent in the shower and consider using a shower timer to track your shower duration.\\n\\n\\nCollect and reuse water: Collect rainwater in barrels or use graywater (e.g., water from laundry or dishwashing) for activities like watering plants.\\n\\n\\nUse a dishwasher efficiently: Only run the dishwasher with a full load and avoid pre-rinsing dishes, as modern dishwashers are designed to handle food scraps.\\n\\n\\nRemember, every drop saved counts towards water conservation efforts!\\n\\n',\n",
              " '\\n\\nPromoting sustainability in the workplace can have a significant impact. Here are some suggestions:\\nStart a recycling program: Set up designated recycling bins for paper, plastic, and other recyclable materials. Educate employees about proper recycling practices.\\n\\n\\nReduce paper usage: Encourage digital documentation and communication to minimize paper usage. Print only when necessary and print double-sided when possible.\\n\\n\\nOpt for energy-efficient equipment: Invest in energy-efficient office equipment, such as computers, printers, and lighting. Encourage employees to turn off devices when not in use.\\nPromote sustainable commuting: Encourage carpooling, biking, or using public transportation among employees. Offer incentives like preferred parking for carpoolers or a bike-to-work program.\\n\\n\\nEducate employees: Organize workshops or lunchtime talks on sustainability topics to raise awareness and provide practical tips for sustainable practices at work and home.\\n\\n\\nFoster a culture of sustainability: Lead by example and encourage employee participation in sustainability initiatives. Recognize and celebrate sustainable practices and achievements.\\n\\n\\nBy incorporating sustainability into the workplace, you can create a positive environmental impact and inspire others to adopt green practices.\\n\\n',\n",
              " '\\n\\nYes, there are various grants and funding opportunities available for sustainable projects. Here are a few avenues to explore:\\nGovernment Grants: Check with local, regional, or national government bodies for grants specifically targeting sustainable initiatives. These may include renewable energy projects, eco-friendly agriculture, or conservation efforts.\\n\\n\\nNon-Profit Organizations: Many non-profit organizations offer grants to support sustainability projects. Research environmental and sustainability-focused foundations or organizations that align with your project goals.\\n\\n\\nCorporate Grants: Some companies have corporate social responsibility programs that provide grants or funding for sustainable projects. Look for businesses that prioritize environmental sustainability and explore their grant opportunities.\\n\\n\\nCrowdfunding Platforms: Consider utilizing crowdfunding platforms where individuals or groups can raise funds for their sustainable projects. These platforms provide an opportunity to showcase your project and gather support from a larger community.\\n\\n\\nResearch Institutions and Universities: Universities and research institutions often offer grants or funding for sustainability research or projects related to environmental conservation and renewable energy.\\n\\n\\nRemember to thoroughly research and review the eligibility criteria and application process for each grant or funding opportunity to increase your chances of success.']"
            ]
          },
          "metadata": {},
          "execution_count": 12
        }
      ]
    },
    {
      "cell_type": "code",
      "source": [
        "DOCUMENTS = questions\n",
        "RESPONSES = responses"
      ],
      "metadata": {
        "id": "YFCVebUuCsvt"
      },
      "execution_count": 13,
      "outputs": []
    },
    {
      "cell_type": "code",
      "source": [
        "chatbot = Chatbot()\n",
        "\n",
        "# Add your educational resources, recommendations, and other documents here\n",
        "for document in DOCUMENTS:\n",
        "    chatbot.documents.append(document)\n",
        "\n",
        "# Add the corresponding responses here\n",
        "for response in RESPONSES:\n",
        "    chatbot.responses.append(response)\n",
        "\n",
        "\n",
        "chatbot.prepare_documents()\n",
        "chatbot.train_tfidf_vectorizer()"
      ],
      "metadata": {
        "id": "UYwor6BmAr6-"
      },
      "execution_count": 14,
      "outputs": []
    },
    {
      "cell_type": "code",
      "source": [
        "chatbot.chat()"
      ],
      "metadata": {
        "id": "Vp8jz3fBAvL_",
        "colab": {
          "base_uri": "https://localhost:8080/"
        },
        "outputId": "6e51724c-a83c-42c1-bd6f-08fd39c4c638"
      },
      "execution_count": 15,
      "outputs": [
        {
          "output_type": "stream",
          "name": "stdout",
          "text": [
            "Chatbot: Hello! How can I assist you today?\n",
            "User: hello\n",
            "\n",
            "GreenGuardian: Hello! How can I assist you today?\n",
            "User: tell me about what is sustainable developments\n",
            "\n",
            "GreenGuardian: \n",
            "\n",
            "Reducing water consumption at home is a great way to conserve this precious resource. Here are some tips:\n",
            "Fix leaks promptly: Check for leaks in faucets, toilets, and pipes, and repair them as soon as possible.\n",
            "\n",
            "\n",
            "Install water-saving devices: Install water-efficient showerheads, faucets, and toilets. These devices help reduce water usage without compromising functionality.\n",
            "\n",
            "\n",
            "Take shorter showers: Aim to reduce the time spent in the shower and consider using a shower timer to track your shower duration.\n",
            "\n",
            "\n",
            "Collect and reuse water: Collect rainwater in barrels or use graywater (e.g., water from laundry or dishwashing) for activities like watering plants.\n",
            "\n",
            "\n",
            "Use a dishwasher efficiently: Only run the dishwasher with a full load and avoid pre-rinsing dishes, as modern dishwashers are designed to handle food scraps.\n",
            "\n",
            "\n",
            "Remember, every drop saved counts towards water conservation efforts!\n",
            "\n",
            "\n",
            "User: thank you\n",
            "\n",
            "GreenGuardian: \n",
            "\n",
            "Certainly! Here are some eco-friendly products you can consider for everyday use:\n",
            "Reusable Water Bottles: Instead of single-use plastic bottles, opt for reusable water bottles made from stainless steel, glass, or BPA\n",
            "\n",
            "Reusable Shopping Bags: Use reusable shopping bags made of canvas or recycled materials instead of plastic bags.\n",
            "\n",
            "\n",
            "Bamboo Toothbrush: Switch to a bamboo toothbrush, which has a biodegradable handle compared to plastic toothbrushes.\n",
            "\n",
            "\n",
            "Reusable Coffee Cup: Invest in a reusable coffee cup made from materials like stainless steel or ceramic to reduce waste from disposable cups.\n",
            "\n",
            "\n",
            "Beeswax Wraps: Replace single-use plastic wraps with beeswax wraps to cover food and keep it fresh. Beeswax wraps are washable and reusable.\n",
            "\n",
            "\n",
            "Biodegradable Cleaning Products: Choose cleaning products that are biodegradable and made from natural ingredients to reduce chemical pollution.\n",
            "\n",
            "\n",
            "Reusable Food Containers: Opt for reusable food containers made from glass or stainless steel for storing leftovers or packing meals on the go.\n",
            "\n",
            "\n",
            "Cloth Napkins: Use cloth napkins instead of disposable paper napkins to reduce paper waste.\n",
            "\n",
            "\n",
            "Solar-Powered Chargers: Consider using solar-powered chargers for your electronic devices to utilize renewable energy and reduce reliance on traditional electricity sources.\n",
            "\n",
            "\n",
            "Eco-Friendly Laundry Detergent: Look for laundry detergents that are biodegradable, phosphate-free, and made from natural ingredients.\n",
            "\n",
            "\n",
            "Plant-Based Personal Care Products: Choose personal care products such as shampoo, conditioner, and soap that are made from plant-based and cruelty-free ingredients.\n",
            "\n",
            "\n",
            "Remember, making small switches to eco-friendly products can have a significant positive impact on the environment over time.\n",
            "\n",
            "\n",
            "User: bye\n",
            "\n",
            "GreenGuardian: Goodbye! Have a great day!\n"
          ]
        }
      ]
    },
    {
      "cell_type": "code",
      "source": [],
      "metadata": {
        "id": "nFoRo-0TLSTi"
      },
      "execution_count": null,
      "outputs": []
    }
  ]
}