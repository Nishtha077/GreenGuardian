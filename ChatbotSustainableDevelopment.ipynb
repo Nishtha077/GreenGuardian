{
  "nbformat": 4,
  "nbformat_minor": 0,
  "metadata": {
    "colab": {
      "provenance": [],
      "authorship_tag": "ABX9TyNN/6me88UTdHx/Dcdfodid",
      "include_colab_link": true
    },
    "kernelspec": {
      "name": "python3",
      "display_name": "Python 3"
    },
    "language_info": {
      "name": "python"
    }
  },
  "cells": [
    {
      "cell_type": "markdown",
      "metadata": {
        "id": "view-in-github",
        "colab_type": "text"
      },
      "source": [
        "<a href=\"https://colab.research.google.com/github/Nishtha077/GreenGuardian/blob/main/ChatbotSustainableDevelopment.ipynb\" target=\"_parent\"><img src=\"https://colab.research.google.com/assets/colab-badge.svg\" alt=\"Open In Colab\"/></a>"
      ]
    },
    {
      "cell_type": "markdown",
      "source": [
        "#GreenGuardian\n",
        "\n",
        "\n"
      ],
      "metadata": {
        "id": "kSnt1P81AgAv"
      }
    },
    {
      "cell_type": "code",
      "source": [
        "!pip install nltk"
      ],
      "metadata": {
        "id": "7kZzXB5_Agzg",
        "colab": {
          "base_uri": "https://localhost:8080/"
        },
        "outputId": "c3153ec2-19d6-4d0a-aecb-3750f0067020"
      },
      "execution_count": 19,
      "outputs": [
        {
          "output_type": "stream",
          "name": "stdout",
          "text": [
            "Requirement already satisfied: nltk in /usr/local/lib/python3.10/dist-packages (3.8.1)\n",
            "Requirement already satisfied: click in /usr/local/lib/python3.10/dist-packages (from nltk) (8.1.7)\n",
            "Requirement already satisfied: joblib in /usr/local/lib/python3.10/dist-packages (from nltk) (1.3.2)\n",
            "Requirement already satisfied: regex>=2021.8.3 in /usr/local/lib/python3.10/dist-packages (from nltk) (2023.12.25)\n",
            "Requirement already satisfied: tqdm in /usr/local/lib/python3.10/dist-packages (from nltk) (4.66.2)\n"
          ]
        }
      ]
    },
    {
      "cell_type": "code",
      "source": [
        "import nltk\n",
        "from nltk.stem import WordNetLemmatizer\n",
        "from nltk.corpus import wordnet\n",
        "from sklearn.feature_extraction.text import TfidfVectorizer\n",
        "from sklearn.metrics.pairwise import cosine_similarity\n",
        "import random"
      ],
      "metadata": {
        "id": "HHHULr9rAinr"
      },
      "execution_count": 20,
      "outputs": []
    },
    {
      "cell_type": "code",
      "source": [
        "nltk.download('punkt')\n",
        "nltk.download('wordnet')"
      ],
      "metadata": {
        "colab": {
          "base_uri": "https://localhost:8080/"
        },
        "id": "JAu4GmL1H0HV",
        "outputId": "c4818954-f73b-4a85-bdae-1c45fb3a41e3"
      },
      "execution_count": 21,
      "outputs": [
        {
          "output_type": "stream",
          "name": "stderr",
          "text": [
            "[nltk_data] Downloading package punkt to /root/nltk_data...\n",
            "[nltk_data]   Unzipping tokenizers/punkt.zip.\n",
            "[nltk_data] Downloading package wordnet to /root/nltk_data...\n"
          ]
        },
        {
          "output_type": "execute_result",
          "data": {
            "text/plain": [
              "True"
            ]
          },
          "metadata": {},
          "execution_count": 21
        }
      ]
    },
    {
      "cell_type": "code",
      "source": [
        "class Chatbot:\n",
        "    def __init__(self):\n",
        "        self.lemmatizer = WordNetLemmatizer()\n",
        "        self.tfidf_vectorizer = TfidfVectorizer()\n",
        "        self.documents = []\n",
        "        self.responses = []\n",
        "        self.greetings = ['hello', 'hi', 'hey']\n",
        "        self.goodbyes = [\"Thank you, bye\", \"Thanks, Bye\", 'bye', 'goodbye', 'see you']\n",
        "\n",
        "    def lemmatize_sentence(self, sentence):\n",
        "        tokens = nltk.word_tokenize(sentence)\n",
        "        lemmatized_tokens = []\n",
        "        for token in tokens:\n",
        "            lemmatized_tokens.append(self.lemmatizer.lemmatize(token.lower()))\n",
        "        return ' '.join(lemmatized_tokens)\n",
        "\n",
        "    def prepare_documents(self):\n",
        "        self.documents = [self.lemmatize_sentence(document) for document in self.documents]\n",
        "\n",
        "    def train_tfidf_vectorizer(self):\n",
        "        self.tfidf_vectorizer.fit_transform(self.documents)\n",
        "\n",
        "    def generate_response(self, user_input):\n",
        "        lemmatized_input = self.lemmatize_sentence(user_input)\n",
        "        tfidf_input = self.tfidf_vectorizer.transform([lemmatized_input])\n",
        "        similarity_scores = cosine_similarity(tfidf_input, self.tfidf_vectorizer.transform(self.documents))\n",
        "        max_score_index = similarity_scores.argmax()\n",
        "        response = self.responses[max_score_index]\n",
        "        return response\n",
        "\n",
        "    def chat(self):\n",
        "        print(\"Chatbot: Hello! How can I assist you today?\")\n",
        "        while True:\n",
        "            user_input = input(\"User: \")\n",
        "            if user_input.lower() in self.goodbyes:\n",
        "                print(\"\\nGreenGuardian: Goodbye! Have a great day!\")\n",
        "                break\n",
        "            elif user_input.lower() in self.greetings:\n",
        "                print(\"\\nGreenGuardian: Hello! How can I assist you today?\")\n",
        "            else:\n",
        "                response = self.generate_response(user_input)\n",
        "                print(\"\\nGreenGuardian:\", response)"
      ],
      "metadata": {
        "id": "XKW7PTizAol3"
      },
      "execution_count": 22,
      "outputs": []
    },
    {
      "cell_type": "code",
      "source": [
        "import csv"
      ],
      "metadata": {
        "id": "eTmWeb6xF6T_"
      },
      "execution_count": 23,
      "outputs": []
    },
    {
      "cell_type": "code",
      "source": [
        "def convert_csv_to_arrays(csv_file_path):\n",
        "    \"\"\"\n",
        "    Converts a CSV file containing questions and answers into separate arrays.\n",
        "\n",
        "    Args:\n",
        "        csv_file_path (str): Path to the CSV file.\n",
        "\n",
        "    Returns:\n",
        "        tuple: A tuple containing two lists: one for questions and one for answers.\n",
        "    \"\"\"\n",
        "\n",
        "    questions = []\n",
        "    answers = []\n",
        "\n",
        "    try:\n",
        "        with open(csv_file_path, 'r', newline='') as csvfile:\n",
        "            reader = csv.reader(csvfile)\n",
        "            for row in reader:\n",
        "                # Handle cases where there might be fewer columns than expected\n",
        "                if len(row) >= 3:\n",
        "                    question = row[1]\n",
        "                    answer = row[2]\n",
        "                    questions.append(question)\n",
        "                    answers.append(answer)\n",
        "                else:\n",
        "                    print(f\"Warning: Skipping row with fewer than 2 columns: {row}\")\n",
        "\n",
        "    except FileNotFoundError:\n",
        "        print(f\"Error: File '{csv_file_path}' not found.\")\n",
        "    except Exception as e:\n",
        "        print(f\"Error: An unexpected error occurred: {e}\")\n",
        "\n",
        "    return questions, answers"
      ],
      "metadata": {
        "id": "J-OljDlzGBoM"
      },
      "execution_count": 24,
      "outputs": []
    },
    {
      "cell_type": "code",
      "source": [
        "questions, answers = convert_csv_to_arrays(\"sustainable_practices_qna.csv\")"
      ],
      "metadata": {
        "id": "XDaCYN2mGIOq"
      },
      "execution_count": 25,
      "outputs": []
    },
    {
      "cell_type": "code",
      "source": [
        "len(questions), len(answers) # first row being the header"
      ],
      "metadata": {
        "colab": {
          "base_uri": "https://localhost:8080/"
        },
        "id": "e-GNKO3AGMfG",
        "outputId": "c260c444-e918-493c-adc8-6bd08551ddf3"
      },
      "execution_count": 26,
      "outputs": [
        {
          "output_type": "execute_result",
          "data": {
            "text/plain": [
              "(51, 51)"
            ]
          },
          "metadata": {},
          "execution_count": 26
        }
      ]
    },
    {
      "cell_type": "code",
      "source": [
        "f = open(\"tips.txt\", \"r\")\n",
        "tips = f.read().split('\\n')\n",
        "tips"
      ],
      "metadata": {
        "id": "-Tk56baMKP6m",
        "outputId": "27174d82-edaa-4d88-a148-682709173e52",
        "colab": {
          "base_uri": "https://localhost:8080/"
        }
      },
      "execution_count": 27,
      "outputs": [
        {
          "output_type": "execute_result",
          "data": {
            "text/plain": [
              "['Conserve energy by turning off lights and appliances when not in use.',\n",
              " 'Reduce water consumption by taking shorter showers and fixing leaks.',\n",
              " 'Opt for reusable products such as bags, bottles, and coffee cups.',\n",
              " 'Recycle paper, plastic, glass, and other recyclable materials.',\n",
              " 'Plant trees and support reforestation initiatives to combat deforestation.']"
            ]
          },
          "metadata": {},
          "execution_count": 27
        }
      ]
    },
    {
      "cell_type": "code",
      "source": [
        "# f = open(\"questions.txt\", \"r\")\n",
        "# questions = f.read().split('\\n')\n",
        "# questions"
      ],
      "metadata": {
        "id": "m3JY_QScDZLi"
      },
      "execution_count": 28,
      "outputs": []
    },
    {
      "cell_type": "code",
      "source": [
        "# f = open(\"answers.txt\", \"r\")\n",
        "# responses = f.read().split('newResponse')\n",
        "# responses[0] = responses[0] + tips[random.randrange(len(tips))]\n",
        "# responses"
      ],
      "metadata": {
        "id": "lD6s6Nq2ENED"
      },
      "execution_count": 29,
      "outputs": []
    },
    {
      "cell_type": "code",
      "source": [
        "import random"
      ],
      "metadata": {
        "id": "2jvUFBORHQuP"
      },
      "execution_count": 30,
      "outputs": []
    },
    {
      "cell_type": "code",
      "source": [
        "questions[0] = \"None\" # In case the asked question is not mapped with any of the questions\n",
        "answers[0] = \"Sorry, I do not have an answer for that. Here's a sustainable living tip instead:\\n\" + tips[random.randrange(len(tips))]"
      ],
      "metadata": {
        "id": "CCjhCbXvG_BH"
      },
      "execution_count": 31,
      "outputs": []
    },
    {
      "cell_type": "code",
      "source": [
        "DOCUMENTS = questions\n",
        "RESPONSES = answers"
      ],
      "metadata": {
        "id": "YFCVebUuCsvt"
      },
      "execution_count": 32,
      "outputs": []
    },
    {
      "cell_type": "code",
      "source": [
        "chatbot = Chatbot()\n",
        "\n",
        "# Add your educational resources, recommendations, and other documents here\n",
        "for document in DOCUMENTS:\n",
        "    chatbot.documents.append(document)\n",
        "\n",
        "# Add the corresponding responses here\n",
        "for response in RESPONSES:\n",
        "    chatbot.responses.append(response)\n",
        "\n",
        "\n",
        "chatbot.prepare_documents()\n",
        "chatbot.train_tfidf_vectorizer()"
      ],
      "metadata": {
        "id": "UYwor6BmAr6-"
      },
      "execution_count": 33,
      "outputs": []
    },
    {
      "cell_type": "code",
      "source": [
        "chatbot.chat()"
      ],
      "metadata": {
        "id": "Vp8jz3fBAvL_",
        "colab": {
          "base_uri": "https://localhost:8080/"
        },
        "outputId": "bf3828a1-ff14-43ca-e943-e408284a8116"
      },
      "execution_count": 38,
      "outputs": [
        {
          "output_type": "stream",
          "name": "stdout",
          "text": [
            "Chatbot: Hello! How can I assist you today?\n",
            "User: what can I do to support sustainable environment?\n",
            "\n",
            "GreenGuardian: There are so many things we can do – in our section on living sustainably, we discussed that changing your food, fashion, transportation, banking and energy habits can make a real difference. In addition to this, you can push for legislation by going to peaceful protests, writing to your MP and local councillors, and advocating for sustainability on social media. \n",
            "User: what can I do to contribute?\n",
            "\n",
            "GreenGuardian: There are so many things we can do – in our section on living sustainably, we discussed that changing your food, fashion, transportation, banking and energy habits can make a real difference. In addition to this, you can push for legislation by going to peaceful protests, writing to your MP and local councillors, and advocating for sustainability on social media. \n",
            "User: 1 + 1 = ?\n",
            "\n",
            "GreenGuardian: Sorry, I do not have an answer for that. Here's a sustainable living tip instead:\n",
            "Opt for reusable products such as bags, bottles, and coffee cups.\n",
            "User: bye\n",
            "\n",
            "GreenGuardian: Goodbye! Have a great day!\n"
          ]
        }
      ]
    },
    {
      "cell_type": "code",
      "source": [],
      "metadata": {
        "id": "cYBsZd_CHrKb"
      },
      "execution_count": null,
      "outputs": []
    }
  ]
}