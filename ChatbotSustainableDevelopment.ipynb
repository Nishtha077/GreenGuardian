{
  "nbformat": 4,
  "nbformat_minor": 0,
  "metadata": {
    "colab": {
      "provenance": [],
      "authorship_tag": "ABX9TyOK5rZ7uEHxqFPLjmjhg80k",
      "include_colab_link": true
    },
    "kernelspec": {
      "name": "python3",
      "display_name": "Python 3"
    },
    "language_info": {
      "name": "python"
    }
  },
  "cells": [
    {
      "cell_type": "markdown",
      "metadata": {
        "id": "view-in-github",
        "colab_type": "text"
      },
      "source": [
        "<a href=\"https://colab.research.google.com/github/Nishtha077/GreenGuardian/blob/main/ChatbotSustainableDevelopment.ipynb\" target=\"_parent\"><img src=\"https://colab.research.google.com/assets/colab-badge.svg\" alt=\"Open In Colab\"/></a>"
      ]
    },
    {
      "cell_type": "markdown",
      "source": [
        "#GreenGuardian\n",
        "\n",
        "\n"
      ],
      "metadata": {
        "id": "kSnt1P81AgAv"
      }
    },
    {
      "cell_type": "code",
      "source": [
        "!pip install nltk"
      ],
      "metadata": {
        "id": "7kZzXB5_Agzg",
        "colab": {
          "base_uri": "https://localhost:8080/"
        },
        "outputId": "eeda4f35-fcb9-423e-b28b-623aa93d8eac"
      },
      "execution_count": 46,
      "outputs": [
        {
          "output_type": "stream",
          "name": "stdout",
          "text": [
            "Requirement already satisfied: nltk in /usr/local/lib/python3.10/dist-packages (3.8.1)\n",
            "Requirement already satisfied: click in /usr/local/lib/python3.10/dist-packages (from nltk) (8.1.3)\n",
            "Requirement already satisfied: joblib in /usr/local/lib/python3.10/dist-packages (from nltk) (1.2.0)\n",
            "Requirement already satisfied: regex>=2021.8.3 in /usr/local/lib/python3.10/dist-packages (from nltk) (2022.10.31)\n",
            "Requirement already satisfied: tqdm in /usr/local/lib/python3.10/dist-packages (from nltk) (4.65.0)\n"
          ]
        }
      ]
    },
    {
      "cell_type": "code",
      "source": [
        "import nltk\n",
        "from nltk.stem import WordNetLemmatizer\n",
        "from nltk.corpus import wordnet\n",
        "from sklearn.feature_extraction.text import TfidfVectorizer\n",
        "from sklearn.metrics.pairwise import cosine_similarity\n",
        "import random"
      ],
      "metadata": {
        "id": "HHHULr9rAinr"
      },
      "execution_count": 1,
      "outputs": []
    },
    {
      "cell_type": "code",
      "source": [
        "nltk.download('punkt')\n",
        "nltk.download('wordnet')"
      ],
      "metadata": {
        "colab": {
          "base_uri": "https://localhost:8080/"
        },
        "id": "JAu4GmL1H0HV",
        "outputId": "bf0a19ee-e89a-40e0-f005-4f187f953a68"
      },
      "execution_count": 2,
      "outputs": [
        {
          "output_type": "stream",
          "name": "stderr",
          "text": [
            "[nltk_data] Downloading package punkt to /root/nltk_data...\n",
            "[nltk_data]   Unzipping tokenizers/punkt.zip.\n",
            "[nltk_data] Downloading package wordnet to /root/nltk_data...\n"
          ]
        },
        {
          "output_type": "execute_result",
          "data": {
            "text/plain": [
              "True"
            ]
          },
          "metadata": {},
          "execution_count": 2
        }
      ]
    },
    {
      "cell_type": "code",
      "source": [
        "class Chatbot:\n",
        "    def __init__(self):\n",
        "        self.lemmatizer = WordNetLemmatizer()\n",
        "        self.tfidf_vectorizer = TfidfVectorizer()\n",
        "        self.documents = []\n",
        "        self.responses = []\n",
        "        self.greetings = ['hello', 'hi', 'hey']\n",
        "        self.goodbyes = [\"Thank you, bye\", \"Thanks, Bye\", 'bye', 'goodbye', 'see you']\n",
        "\n",
        "    def lemmatize_sentence(self, sentence):\n",
        "        tokens = nltk.word_tokenize(sentence)\n",
        "        lemmatized_tokens = []\n",
        "        for token in tokens:\n",
        "            lemmatized_tokens.append(self.lemmatizer.lemmatize(token.lower()))\n",
        "        return ' '.join(lemmatized_tokens)\n",
        "\n",
        "    def prepare_documents(self):\n",
        "        self.documents = [self.lemmatize_sentence(document) for document in self.documents]\n",
        "\n",
        "    def train_tfidf_vectorizer(self):\n",
        "        self.tfidf_vectorizer.fit_transform(self.documents)\n",
        "\n",
        "    def generate_response(self, user_input):\n",
        "        lemmatized_input = self.lemmatize_sentence(user_input)\n",
        "        tfidf_input = self.tfidf_vectorizer.transform([lemmatized_input])\n",
        "        similarity_scores = cosine_similarity(tfidf_input, self.tfidf_vectorizer.transform(self.documents))\n",
        "        max_score_index = similarity_scores.argmax()\n",
        "        response = self.responses[max_score_index]\n",
        "        return response\n",
        "\n",
        "    def chat(self):\n",
        "        print(\"Chatbot: Hello! How can I assist you today?\")\n",
        "        while True:\n",
        "            user_input = input(\"User: \")\n",
        "            if user_input.lower() in self.goodbyes:\n",
        "                print(\"\\nGreenGuardian: Goodbye! Have a great day!\")\n",
        "                break\n",
        "            elif user_input.lower() in self.greetings:\n",
        "                print(\"\\nGreenGuardian: Hello! How can I assist you today?\")\n",
        "            else:\n",
        "                response = self.generate_response(user_input)\n",
        "                print(\"\\nGreenGuardian:\", response)"
      ],
      "metadata": {
        "id": "XKW7PTizAol3"
      },
      "execution_count": 10,
      "outputs": []
    },
    {
      "cell_type": "code",
      "source": [
        "tips = [\n",
        "    \"Conserve energy by turning off lights and appliances when not in use.\",\n",
        "    \"Reduce water consumption by taking shorter showers and fixing leaks.\",\n",
        "    \"Opt for reusable products such as bags, bottles, and coffee cups.\",\n",
        "    \"Recycle paper, plastic, glass, and other recyclable materials.\",\n",
        "    \"Plant trees and support reforestation initiatives to combat deforestation.\",\n",
        "]"
      ],
      "metadata": {
        "id": "-Tk56baMKP6m"
      },
      "execution_count": 11,
      "outputs": []
    },
    {
      "cell_type": "code",
      "source": [
        "question0 = \"None\"\n",
        "question1 = \"Can you suggest some simple steps I can take to reduce my carbon footprint?\"\n",
        "question2 = \"I'm interested in learning more about renewable energy. Can you provide some resources?\"\n",
        "question3 = \"Can you recommend some eco-friendly products for everyday use?\"\n",
        "question4 = \"How can I get involved in local environmental initiatives?\"\n",
        "question5 = \"What are some ways to reduce water consumption at home?\"\n",
        "question6 = \"How can I encourage sustainability in my workplace?\"\n",
        "question7 = \"Are there any grants or funding opportunities available for sustainable projects?\""
      ],
      "metadata": {
        "id": "m3JY_QScDZLi"
      },
      "execution_count": 12,
      "outputs": []
    },
    {
      "cell_type": "code",
      "source": [
        "response0 = \"Sorry, I do not have an answer for that. Here's a sustainable living tip instead:\\n\" + tips[random.randrange(len(tips))]\n",
        "response1 = '''Certainly! Here are some simple steps you can take to reduce your carbon footprint:\n",
        "\n",
        "Save Energy: Turn off lights and appliances when not in use, unplug electronics, and use energy-efficient light bulbs and appliances.\n",
        "\n",
        "\n",
        "Conserve Water: Fix leaks, take shorter showers, and use water-saving devices like low-flow showerheads and faucets.\n",
        "\n",
        "\n",
        "Use Sustainable Transportation: Walk, cycle, or use public transportation whenever possible. If you need a car, consider carpooling or using an electric vehicle.\n",
        "\n",
        "\n",
        "Eat a Plant-Based Diet: Reduce your consumption of meat and dairy products, as the production of these foods has a significant environmental impact.\n",
        "\n",
        "\n",
        "Reduce, Reuse, Recycle: Minimize waste by using reusable products, recycling materials like paper, plastic, and glass, and composting organic waste.\n",
        "\n",
        "\n",
        "Support Renewable Energy: Use renewable energy sources like solar power or wind energy to power your home. Consider switching to a green energy provider.\n",
        "\n",
        "\n",
        "Plant Trees and Greenery: Plant trees and support reforestation efforts. Trees absorb carbon dioxide and help combat climate change.\n",
        "\n",
        "\n",
        "Remember, even small actions can make a big difference when it comes to reducing your carbon footprint!\n",
        "'''\n",
        "response2 = '''Absolutely! Here are some resources where you can learn more about renewable energy:\n",
        "Websites:\n",
        "The National Renewable Energy Laboratory (NREL): Visit NREL's website (https://www.nrel.gov/) for comprehensive information on renewable energy technologies, research, and publications.\n",
        "Renewable Energy World: Explore Renewable Energy World (https://www.renewableenergyworld.com/) for news, articles, and resources related to renewable energy.\n",
        "Global Wind Energy Council (GWEC): GWEC's website (https://gwec.net/) provides valuable insights into wind energy and its global impact.\n",
        "Online Courses:\n",
        "Coursera: Coursera (https://www.coursera.org/) offers various courses on renewable energy, such as \"Introduction to Renewable Energy\" and \"Solar Energy Basics.\"\n",
        "edX: Check out edX (https://www.edx.org/) for courses like \"Wind Energy\" and \"Introduction to Sustainable Energy.\"\n",
        "Books:\n",
        "\"Renewable Energy: Power for a Sustainable Future\" by Godfrey Boyle\n",
        "\"The Switch: How Solar, Storage and New Tech Means Cheap Power for All\" by Chris Goodall\n",
        "\"Wind Energy Basics: A Guide to Home and Community-Scale Wind Energy Systems\" by Paul Gipe\n",
        "These resources should provide you with a solid foundation in understanding and exploring renewable energy. Happy learning!\n",
        "'''\n",
        "response3 = '''Certainly! Here are some eco-friendly products you can consider for everyday use:\n",
        "Reusable Water Bottles: Instead of single-use plastic bottles, opt for reusable water bottles made from stainless steel, glass, or BPA\n",
        "\n",
        "Reusable Shopping Bags: Use reusable shopping bags made of canvas or recycled materials instead of plastic bags.\n",
        "\n",
        "\n",
        "Bamboo Toothbrush: Switch to a bamboo toothbrush, which has a biodegradable handle compared to plastic toothbrushes.\n",
        "\n",
        "\n",
        "Reusable Coffee Cup: Invest in a reusable coffee cup made from materials like stainless steel or ceramic to reduce waste from disposable cups.\n",
        "\n",
        "\n",
        "Beeswax Wraps: Replace single-use plastic wraps with beeswax wraps to cover food and keep it fresh. Beeswax wraps are washable and reusable.\n",
        "\n",
        "\n",
        "Biodegradable Cleaning Products: Choose cleaning products that are biodegradable and made from natural ingredients to reduce chemical pollution.\n",
        "\n",
        "\n",
        "Reusable Food Containers: Opt for reusable food containers made from glass or stainless steel for storing leftovers or packing meals on the go.\n",
        "\n",
        "\n",
        "Cloth Napkins: Use cloth napkins instead of disposable paper napkins to reduce paper waste.\n",
        "\n",
        "\n",
        "Solar-Powered Chargers: Consider using solar-powered chargers for your electronic devices to utilize renewable energy and reduce reliance on traditional electricity sources.\n",
        "\n",
        "\n",
        "Eco-Friendly Laundry Detergent: Look for laundry detergents that are biodegradable, phosphate-free, and made from natural ingredients.\n",
        "\n",
        "\n",
        "Plant-Based Personal Care Products: Choose personal care products such as shampoo, conditioner, and soap that are made from plant-based and cruelty-free ingredients.\n",
        "\n",
        "\n",
        "Remember, making small switches to eco-friendly products can have a significant positive impact on the environment over time.\n",
        "'''\n",
        "response4 = '''Getting involved in local environmental initiatives is a fantastic way to contribute to a sustainable future. Here are some steps you can take to get involved:\n",
        "Research Local Organizations: Look for environmental organizations, non-profits, or community groups in your area that focus on sustainability. Check their websites or social media pages for information on their initiatives and events.\n",
        "\n",
        "\n",
        "Volunteer: Reach out to these organizations and inquire about volunteer opportunities. They may have programs related to tree planting, beach cleanups, recycling campaigns, or educational initiatives. Volunteering allows you to actively participate in environmental projects and meet like-minded individuals.\n",
        "\n",
        "\n",
        "Attend Events and Workshops: Keep an eye out for environmental events, workshops, or seminars happening in your community. These events often provide opportunities to learn about sustainable practices and connect with experts and activists.\n",
        "\n",
        "\n",
        "Participate in Local Cleanups: Join local clean-up initiatives to help keep your surroundings clean and free from litter. These activities not only improve the environment but also raise awareness about the importance of waste management.\n",
        "\n",
        "\n",
        "Engage with Local Government: Stay informed about environmental policies and projects in your area. Attend community meetings, town halls, or public hearings related to environmental issues and express your views. Engaging with local government can influence decision-making processes.\n",
        "Promote Sustainable Practices: Encourage friends, family, and colleagues to adopt sustainable practices by leading by example. Share information and resources on social media or organize small awareness campaigns in your neighborhood.\n",
        "\n",
        "\n",
        "Remember, every effort counts, and by getting involved in local initiatives, you can make a tangible difference in your community's sustainability efforts.\n",
        "'''\n",
        "response5 = '''Reducing water consumption at home is a great way to conserve this precious resource. Here are some tips:\n",
        "Fix leaks promptly: Check for leaks in faucets, toilets, and pipes, and repair them as soon as possible.\n",
        "\n",
        "\n",
        "Install water-saving devices: Install water-efficient showerheads, faucets, and toilets. These devices help reduce water usage without compromising functionality.\n",
        "\n",
        "\n",
        "Take shorter showers: Aim to reduce the time spent in the shower and consider using a shower timer to track your shower duration.\n",
        "\n",
        "\n",
        "Collect and reuse water: Collect rainwater in barrels or use graywater (e.g., water from laundry or dishwashing) for activities like watering plants.\n",
        "\n",
        "\n",
        "Use a dishwasher efficiently: Only run the dishwasher with a full load and avoid pre-rinsing dishes, as modern dishwashers are designed to handle food scraps.\n",
        "\n",
        "\n",
        "Remember, every drop saved counts towards water conservation efforts!\n",
        "'''\n",
        "response6 = '''Promoting sustainability in the workplace can have a significant impact. Here are some suggestions:\n",
        "Start a recycling program: Set up designated recycling bins for paper, plastic, and other recyclable materials. Educate employees about proper recycling practices.\n",
        "\n",
        "\n",
        "Reduce paper usage: Encourage digital documentation and communication to minimize paper usage. Print only when necessary and print double-sided when possible.\n",
        "\n",
        "\n",
        "Opt for energy-efficient equipment: Invest in energy-efficient office equipment, such as computers, printers, and lighting. Encourage employees to turn off devices when not in use.\n",
        "Promote sustainable commuting: Encourage carpooling, biking, or using public transportation among employees. Offer incentives like preferred parking for carpoolers or a bike-to-work program.\n",
        "\n",
        "\n",
        "Educate employees: Organize workshops or lunchtime talks on sustainability topics to raise awareness and provide practical tips for sustainable practices at work and home.\n",
        "\n",
        "\n",
        "Foster a culture of sustainability: Lead by example and encourage employee participation in sustainability initiatives. Recognize and celebrate sustainable practices and achievements.\n",
        "\n",
        "\n",
        "By incorporating sustainability into the workplace, you can create a positive environmental impact and inspire others to adopt green practices.\n",
        "\n",
        "'''\n",
        "response7 = '''Yes, there are various grants and funding opportunities available for sustainable projects. Here are a few avenues to explore:\n",
        "Government Grants: Check with local, regional, or national government bodies for grants specifically targeting sustainable initiatives. These may include renewable energy projects, eco-friendly agriculture, or conservation efforts.\n",
        "\n",
        "\n",
        "Non-Profit Organizations: Many non-profit organizations offer grants to support sustainability projects. Research environmental and sustainability-focused foundations or organizations that align with your project goals.\n",
        "\n",
        "\n",
        "Corporate Grants: Some companies have corporate social responsibility programs that provide grants or funding for sustainable projects. Look for businesses that prioritize environmental sustainability and explore their grant opportunities.\n",
        "\n",
        "\n",
        "Crowdfunding Platforms: Consider utilizing crowdfunding platforms where individuals or groups can raise funds for their sustainable projects. These platforms provide an opportunity to showcase your project and gather support from a larger community.\n",
        "\n",
        "\n",
        "Research Institutions and Universities: Universities and research institutions often offer grants or funding for sustainability research or projects related to environmental conservation and renewable energy.\n",
        "\n",
        "\n",
        "Remember to thoroughly research and review the eligibility criteria and application process for each grant or funding opportunity to increase your chances of success.\n",
        "'''"
      ],
      "metadata": {
        "id": "lD6s6Nq2ENED"
      },
      "execution_count": 13,
      "outputs": []
    },
    {
      "cell_type": "code",
      "source": [
        "DOCUMENTS = [question0, question1, question2, question3, question4, question5, question6, question7]\n",
        "RESPONSES = [response0, response1,response2, response3, response4, response5, response6, response7]"
      ],
      "metadata": {
        "id": "YFCVebUuCsvt"
      },
      "execution_count": 14,
      "outputs": []
    },
    {
      "cell_type": "code",
      "source": [
        "chatbot = Chatbot()\n",
        "\n",
        "# Add your educational resources, recommendations, and other documents here\n",
        "for document in DOCUMENTS:\n",
        "    chatbot.documents.append(document)\n",
        "\n",
        "# Add the corresponding responses here\n",
        "for response in RESPONSES:\n",
        "    chatbot.responses.append(response)\n",
        "\n",
        "\n",
        "chatbot.prepare_documents()\n",
        "chatbot.train_tfidf_vectorizer()"
      ],
      "metadata": {
        "id": "UYwor6BmAr6-"
      },
      "execution_count": 15,
      "outputs": []
    },
    {
      "cell_type": "code",
      "source": [
        "chatbot.chat()"
      ],
      "metadata": {
        "id": "Vp8jz3fBAvL_",
        "colab": {
          "base_uri": "https://localhost:8080/"
        },
        "outputId": "243afea2-71c4-4314-d081-80b3663d031b"
      },
      "execution_count": 16,
      "outputs": [
        {
          "output_type": "stream",
          "name": "stdout",
          "text": [
            "Chatbot: Hello! How can I assist you today?\n",
            "User: Hello\n",
            "\n",
            "GreenGuardian: Hello! How can I assist you today?\n",
            "User: May I know how can I contribute to the sustainability of the environment?\n",
            "\n",
            "GreenGuardian: Promoting sustainability in the workplace can have a significant impact. Here are some suggestions:\n",
            "Start a recycling program: Set up designated recycling bins for paper, plastic, and other recyclable materials. Educate employees about proper recycling practices.\n",
            "\n",
            "\n",
            "Reduce paper usage: Encourage digital documentation and communication to minimize paper usage. Print only when necessary and print double-sided when possible.\n",
            "\n",
            "\n",
            "Opt for energy-efficient equipment: Invest in energy-efficient office equipment, such as computers, printers, and lighting. Encourage employees to turn off devices when not in use.\n",
            "Promote sustainable commuting: Encourage carpooling, biking, or using public transportation among employees. Offer incentives like preferred parking for carpoolers or a bike-to-work program.\n",
            "\n",
            "\n",
            "Educate employees: Organize workshops or lunchtime talks on sustainability topics to raise awareness and provide practical tips for sustainable practices at work and home.\n",
            "\n",
            "\n",
            "Foster a culture of sustainability: Lead by example and encourage employee participation in sustainability initiatives. Recognize and celebrate sustainable practices and achievements.\n",
            "\n",
            "\n",
            "By incorporating sustainability into the workplace, you can create a positive environmental impact and inspire others to adopt green practices.\n",
            "\n",
            "\n",
            "User: Bye\n",
            "\n",
            "GreenGuardian: Goodbye! Have a great day!\n"
          ]
        }
      ]
    }
  ]
}